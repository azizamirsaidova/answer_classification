{
 "cells": [
  {
   "cell_type": "code",
   "execution_count": 1,
   "metadata": {
    "id": "TNGxfa97AcjV"
   },
   "outputs": [],
   "source": [
    "\"\"\"Imports\"\"\"\n",
    "import pandas as pd\n",
    "import numpy as np\n",
    "import random\n",
    "import json\n",
    "import csv\n",
    "# importing the itertools library\n",
    "import itertools\n",
    "import torch\n",
    "from transformers import BertTokenizer, BertForSequenceClassification"
   ]
  },
  {
   "cell_type": "code",
   "execution_count": 2,
   "metadata": {
    "id": "qLYnbFdy6tlA"
   },
   "outputs": [],
   "source": [
    "\"\"\"Load models &  resources\"\"\"\n",
    "resources_dir = '../inputs/resources_dir' \n",
    "mapping_csv = resources_dir+'/mapping.csv'\n",
    "mapping_specific_csv = resources_dir+'/mapping_specific.csv'\n",
    "hierarchy_json = resources_dir+'/dbpedia_hierarchy.json'\n",
    "test_json  = resources_dir+'/test.json'\n",
    "\n",
    "model_dir2 = '../outputs/models36_dbpedia2'\n",
    "category_model_dir = model_dir2 +'/BERT_model_5classes'\n",
    "model_dir = '../outputs/models36_dbpedia'\n",
    "resource_top_model_dir = model_dir + '/BERT_resources_top/'\n",
    "resource_bottom_model_dir = model_dir + '/BERT_resources_bottom/'"
   ]
  },
  {
   "cell_type": "code",
   "execution_count": 18,
   "metadata": {
    "id": "jhQaaqbS-GRX"
   },
   "outputs": [],
   "source": [
    "id_to_label = {}\n",
    "label_to_id = {}\n",
    "with open(mapping_csv) as csvfile:\n",
    "    reader = csv.reader(csvfile, delimiter=',')\n",
    "    for row in reader:\n",
    "        id_to_label[row[1]] = row[0]\n",
    "        label_to_id[row[0]] = row[1]\n",
    "        \n",
    "id_to_label_sp = {}\n",
    "label_to_id_sp = {}\n",
    "with open(mapping_specific_csv) as csvfile:\n",
    "    reader = csv.reader(csvfile, delimiter=',')\n",
    "    for row in reader:\n",
    "        id_to_label_sp[row[1]] = row[0]\n",
    "        label_to_id_sp[row[0]] = row[1]\n",
    "\n",
    "dbpedia_types = pd.read_csv('../inputs/dbpedia_types.tsv', sep='\\t')\n",
    "\n",
    "hierarchy = {}\n",
    "with open(hierarchy_json) as json_file:\n",
    "    hierarchy = json.load(json_file)\n",
    "\n",
    "for i,row in dbpedia_types.iterrows():\n",
    "    parent = row['Parent']\n",
    "    child = row['Type']\n",
    "    if parent not in hierarchy:\n",
    "        hierarchy[parent] = {}\n",
    "        hierarchy[parent]['children'] = []\n",
    "    hierarchy[parent]['children'].append(child)\n",
    "\n",
    "hierarchy['dbo:Location'] = hierarchy['dbo:Place']\n",
    "hierarchy['dbo:Location']['children'].append('dbo:Place')\n",
    "hierarchy['dbo:MedicalSpecialty'] = {'children':['dbo:MedicalSpecialty']}\n",
    "hierarchy['dbo:PublicService'] = {'children':['dbo:PublicService']}\n",
    "hierarchy['dbo:Location']['level'] = 1\n",
    "hierarchy['dbo:MedicalSpecialty']['level']  = 1\n",
    "hierarchy['dbo:PublicService']['level'] = 1\n"
   ]
  },
  {
   "cell_type": "code",
   "execution_count": 19,
   "metadata": {
    "id": "1KqXmnTwAcja"
   },
   "outputs": [
    {
     "name": "stdout",
     "output_type": "stream",
     "text": [
      "before:  4381\n",
      "After:  4381\n"
     ]
    }
   ],
   "source": [
    "test_df= pd.read_json('../inputs/smarttask_dbpedia_test.json')\n",
    "# test_df= pd.read_json('../inputs/task1_dbpedia_test.json')\n",
    "print('before: ',len(test_df))\n",
    "test_df = test_df[test_df['question'].notna()]\n",
    "print('After: ',len(test_df))"
   ]
  },
  {
   "cell_type": "code",
   "execution_count": 20,
   "metadata": {},
   "outputs": [],
   "source": [
    "resource_df = test_df[test_df['category']=='resource']\n",
    "# print(len(resource_df))"
   ]
  },
  {
   "cell_type": "code",
   "execution_count": 7,
   "metadata": {},
   "outputs": [],
   "source": [
    "# resource_df.head()"
   ]
  },
  {
   "cell_type": "code",
   "execution_count": 28,
   "metadata": {},
   "outputs": [
    {
     "name": "stderr",
     "output_type": "stream",
     "text": [
      "<ipython-input-28-354e5410b4d9>:9: SettingWithCopyWarning: \n",
      "A value is trying to be set on a copy of a slice from a DataFrame.\n",
      "Try using .loc[row_indexer,col_indexer] = value instead\n",
      "\n",
      "See the caveats in the documentation: https://pandas.pydata.org/pandas-docs/stable/user_guide/indexing.html#returning-a-view-versus-a-copy\n",
      "  resource_df['gt_top'] = resource_df.type.apply(types_to_top_type)\n",
      "<ipython-input-28-354e5410b4d9>:16: SettingWithCopyWarning: \n",
      "A value is trying to be set on a copy of a slice from a DataFrame.\n",
      "Try using .loc[row_indexer,col_indexer] = value instead\n",
      "\n",
      "See the caveats in the documentation: https://pandas.pydata.org/pandas-docs/stable/user_guide/indexing.html#returning-a-view-versus-a-copy\n",
      "  resource_df['gt_bottom'] = resource_df.type.apply(types_to_specific_type)\n"
     ]
    }
   ],
   "source": [
    "def types_to_top_type(type_list):\n",
    "    generic = type_list[0]\n",
    "    for anst in type_list:\n",
    "        for top_t in label_to_id:\n",
    "            if anst == top_t or anst in  hierarchy[top_t]['children']:\n",
    "                  return  top_t\n",
    "    return generic\n",
    "\n",
    "resource_df['gt_top'] = resource_df.type.apply(types_to_top_type)\n",
    "\n",
    "\n",
    "def types_to_specific_type(type_list):\n",
    "    if len(type_list) == 0:\n",
    "        return None \n",
    "    return type_list[0]\n",
    "resource_df['gt_bottom'] = resource_df.type.apply(types_to_specific_type)"
   ]
  },
  {
   "cell_type": "code",
   "execution_count": 9,
   "metadata": {},
   "outputs": [],
   "source": [
    "# resource_df.head()"
   ]
  },
  {
   "cell_type": "code",
   "execution_count": 10,
   "metadata": {
    "id": "3_wtkCS0KV43"
   },
   "outputs": [],
   "source": [
    "# resource_top_tokenizer = BertTokenizer.from_pretrained(resource_top_model_dir)\n",
    "# resource_top_model = BertForSequenceClassification.from_pretrained(resource_top_model_dir,num_labels=len(label_to_id))\n",
    "\n",
    "resource_tokenizer_sp = BertTokenizer.from_pretrained(resource_bottom_model_dir)\n",
    "resource_model_sp = BertForSequenceClassification.from_pretrained(resource_bottom_model_dir,num_labels=len(label_to_id_sp))\n"
   ]
  },
  {
   "cell_type": "code",
   "execution_count": 22,
   "metadata": {
    "id": "xqIrYZXP3gWC"
   },
   "outputs": [],
   "source": [
    "# DBPedia hierarchy provided by the challenge organizers\n",
    "dbpedia_types = pd.read_csv('../inputs/dbpedia_types.tsv', sep='\\t')"
   ]
  },
  {
   "cell_type": "code",
   "execution_count": 23,
   "metadata": {
    "id": "yHFAG1xYeQxE"
   },
   "outputs": [],
   "source": [
    "for i, row in dbpedia_types.iterrows():\n",
    "    c= row['Type']\n",
    "    if c in hierarchy:\n",
    "        hierarchy[c]['parent'] =row['Parent']"
   ]
  },
  {
   "cell_type": "code",
   "execution_count": 24,
   "metadata": {
    "id": "Ihva6Sdj0Efn"
   },
   "outputs": [],
   "source": [
    "hierarchy['dbo:Location']['parent'] = 'owl:Thing'\n",
    "hierarchy['dbo:MedicalSpecialty']['parent']  = 'owl:Thing'\n",
    "hierarchy['dbo:PublicService']['parent'] = 'owl:Thing'"
   ]
  },
  {
   "cell_type": "code",
   "execution_count": 25,
   "metadata": {},
   "outputs": [],
   "source": [
    "import torch\n",
    "import torch.nn.functional as F\n",
    "\n",
    "\n",
    "def classify_resource(row, top_level):\n",
    "    q = str('[CLS]') + row['question'] + str('[SEP]') + top_level\n",
    "    input_ids = torch.tensor(resource_tokenizer_sp.encode(q, add_special_tokens=True)).unsqueeze(0)  # Batch size 1\n",
    "    labels = torch.tensor([1]).unsqueeze(0)  # Batch size 1\n",
    "    \n",
    "    with torch.no_grad():\n",
    "        outputs = resource_model_sp(input_ids, labels=labels)\n",
    "    \n",
    "    logits = outputs[1]\n",
    "    l_array = logits.detach().numpy()[0]\n",
    "    #normalize logits so that max is 1\n",
    "    norm = [float(i)/max(l_array) for i in l_array]\n",
    "    result_before = np.argsort(norm)[::-1]\n",
    "    \n",
    "#     print('result_before: ')\n",
    "#     for i in result_before[:15]:\n",
    "#         print(id_to_label_sp[str(i)], norm[i])\n",
    "#     print('\\n')\n",
    "\n",
    "    # reward\n",
    "    initial_top_index = np.argmax(norm)\n",
    "    #print('initial_top_index: ',initial_top_index)\n",
    "    initial_top = hierarchy[top_level]\n",
    "    #print('initial_top: ',initial_top)\n",
    "    if initial_top != {}:\n",
    "        norm[initial_top_index] = norm[initial_top_index] + int(initial_top['level'])/6\n",
    "        \n",
    "        #reward sub classes of top class\n",
    "        initial_top_children = initial_top['children']\n",
    "        for c in initial_top_children:\n",
    "            if c in label_to_id_sp:\n",
    "                if c not in hierarchy:\n",
    "                    continue\n",
    "                norm[int(label_to_id_sp[c])] = norm[int(label_to_id_sp[c])] + int(hierarchy[c]['level'])/6\n",
    "                \n",
    "    #classes in descending order\n",
    "    result = np.argsort(norm)[::-1]\n",
    "#     print('after reward:  ')\n",
    "#     for r in result[:15]:\n",
    "#         print(id_to_label_sp[str(r)], norm[r])\n",
    "        \n",
    "    result_mapped = {}\n",
    "    cTypes = []\n",
    "    #m_arr = []\n",
    "    for r in result[:9]:\n",
    "        result_mapped[id_to_label_sp[str(r)]]= norm[r]\n",
    "        #print(r)\n",
    "        if id_to_label_sp[str(r)] in hierarchy.keys():\n",
    "#             # rule 1:\n",
    "#             if hierarchy[id_to_label_sp[str(r)]]['level'] in [3,4,5]:\n",
    "                #print('rule 1:',id_to_label_sp[str(r)])\n",
    "            cTypes.append(id_to_label_sp[str(r)])\n",
    "             # rule 2:\n",
    "#             if (hierarchy[top_level]['children'] == hierarchy[id_to_label_sp[str(r)]]['parent']):\n",
    "#                 print('rule 2:',id_to_label_sp[str(r)])\n",
    "#                 cTypes.append(id_to_label_sp[str(r)])\n",
    "            # rule 2:\n",
    "            #print(id_to_label_sp[str(r)])\n",
    "            parent= hierarchy[id_to_label_sp[str(r)]]['parent']\n",
    "#             print('errr:  ',parent)\n",
    "            if ( parent in hierarchy and  'parent' in hierarchy[parent] and hierarchy[parent]['parent'] == top_level):\n",
    "                #print('rule 2:',parent)\n",
    "                score= norm[r]\n",
    "                if parent not in result_mapped:\n",
    "                    result_mapped[parent] = score\n",
    "                elif score > result_mapped[parent]:\n",
    "                      result_mapped[parent] = score\n",
    "                #print (parent,score)\n",
    "     \n",
    "    # calculate possible combinations with letter \n",
    "    combi = itertools.combinations(cTypes, 2)\n",
    "    # printing all combinations in output using for loop\n",
    "    #print (result_mapped)\n",
    "    m_arr = []\n",
    "    for m in combi: \n",
    "        c1 = m[0]\n",
    "        c2 = m[1]\n",
    "        if (hierarchy[c1]['parent'] == hierarchy[c2]['parent']):\n",
    "            if hierarchy[c1]['parent'] not in m_arr: # Avoid inserting duplicate elements\n",
    "                #print (hierarchy[c1]['parent'])\n",
    "                score= (norm[int(label_to_id_sp[c1])]+norm[int(label_to_id_sp[c2])])/2.0\n",
    "                if hierarchy[c1]['parent'] not in result_mapped:\n",
    "                    result_mapped[hierarchy[c1]['parent']] = score\n",
    "                elif score > result_mapped[hierarchy[c1]['parent']]:\n",
    "                      result_mapped[hierarchy[c1]['parent']] = score\n",
    "    \n",
    "    \n",
    "    return result_mapped\n",
    "\n",
    "#id_to_label_sp\n",
    "def classify_sample(row):\n",
    "    top_class= row['gt_top']\n",
    "    if top_class =='dbo:Location':\n",
    "        top_class='dbo:Place'\n",
    "    specific_classes = classify_resource(row,top_class)\n",
    "    topk_types = [top_class]\n",
    "    for k, v in sorted(specific_classes.items(), key=lambda item: item[1], reverse=True):\n",
    "        if len(topk_types)< 10:\n",
    "            if k not in topk_types:\n",
    "                topk_types.append(k)\n",
    "    return topk_types\n"
   ]
  },
  {
   "cell_type": "code",
   "execution_count": 26,
   "metadata": {},
   "outputs": [
    {
     "name": "stderr",
     "output_type": "stream",
     "text": [
      "<ipython-input-26-5d758364d98f>:1: SettingWithCopyWarning: \n",
      "A value is trying to be set on a copy of a slice from a DataFrame.\n",
      "Try using .loc[row_indexer,col_indexer] = value instead\n",
      "\n",
      "See the caveats in the documentation: https://pandas.pydata.org/pandas-docs/stable/user_guide/indexing.html#returning-a-view-versus-a-copy\n",
      "  resource_df['bottom']= resource_df.apply(lambda x: classify_sample(x), axis=1)\n"
     ]
    }
   ],
   "source": [
    "resource_df['bottom']= resource_df.apply(lambda x: classify_sample(x), axis=1)"
   ]
  },
  {
   "cell_type": "code",
   "execution_count": 39,
   "metadata": {},
   "outputs": [
    {
     "data": {
      "text/plain": [
       "id                                                 dbpedia_183\n",
       "question     What is a sovereign state for office held by t...\n",
       "category                                              resource\n",
       "type         [dbo:Country, dbo:City, dbo:State, dbo:Settlem...\n",
       "gt_top                                            dbo:Location\n",
       "bottom       [dbo:Place, dbo:Mountain, dbo:NaturalPlace, db...\n",
       "gt_bottom                                          dbo:Country\n",
       "Name: 121, dtype: object"
      ]
     },
     "execution_count": 39,
     "metadata": {},
     "output_type": "execute_result"
    }
   ],
   "source": [
    "# resource_df.sample(5)\n",
    "resource_df.iloc[67]"
   ]
  },
  {
   "cell_type": "code",
   "execution_count": 30,
   "metadata": {},
   "outputs": [
    {
     "name": "stdout",
     "output_type": "stream",
     "text": [
      "true:  0\n",
      "error:  2445\n",
      "total:  2445\n"
     ]
    }
   ],
   "source": [
    "true_top_df = resource_df[resource_df['bottom'] == resource_df['gt_bottom']]\n",
    "error_top_df = resource_df[resource_df['bottom'] != resource_df['gt_bottom']]\n",
    "\n",
    "true_num = len(true_top_df)\n",
    "error_num = len(error_top_df)\n",
    "total_num = len(resource_df)\n",
    "\n",
    "print('true: ',true_num)\n",
    "print('error: ',error_num)\n",
    "print('total: ',total_num)"
   ]
  },
  {
   "cell_type": "code",
   "execution_count": 26,
   "metadata": {},
   "outputs": [
    {
     "name": "stdout",
     "output_type": "stream",
     "text": [
      "acc of top: 84.417178 %\n"
     ]
    }
   ],
   "source": [
    "acc_top = (true_num / total_num) * 100\n",
    "print('acc of top: %2f'%acc_top,'%')"
   ]
  },
  {
   "cell_type": "code",
   "execution_count": 28,
   "metadata": {},
   "outputs": [
    {
     "data": {
      "text/html": [
       "<div>\n",
       "<style scoped>\n",
       "    .dataframe tbody tr th:only-of-type {\n",
       "        vertical-align: middle;\n",
       "    }\n",
       "\n",
       "    .dataframe tbody tr th {\n",
       "        vertical-align: top;\n",
       "    }\n",
       "\n",
       "    .dataframe thead th {\n",
       "        text-align: right;\n",
       "    }\n",
       "</style>\n",
       "<table border=\"1\" class=\"dataframe\">\n",
       "  <thead>\n",
       "    <tr style=\"text-align: right;\">\n",
       "      <th></th>\n",
       "      <th>id</th>\n",
       "      <th>question</th>\n",
       "      <th>category</th>\n",
       "      <th>type</th>\n",
       "      <th>top</th>\n",
       "      <th>gt_top</th>\n",
       "    </tr>\n",
       "  </thead>\n",
       "  <tbody>\n",
       "    <tr>\n",
       "      <th>2283</th>\n",
       "      <td>dbpedia_14033</td>\n",
       "      <td>When was Nicolas Sarkozy elected president?</td>\n",
       "      <td>resource</td>\n",
       "      <td>[dbo:Activity]</td>\n",
       "      <td>dbo:Agent</td>\n",
       "      <td>dbo:Activity</td>\n",
       "    </tr>\n",
       "    <tr>\n",
       "      <th>81</th>\n",
       "      <td>dbpedia_20499</td>\n",
       "      <td>List the websites which the authors of Tornado...</td>\n",
       "      <td>resource</td>\n",
       "      <td>[dbo:Company, dbo:Organisation, dbo:Agent]</td>\n",
       "      <td>dbo:Work</td>\n",
       "      <td>dbo:Agent</td>\n",
       "    </tr>\n",
       "    <tr>\n",
       "      <th>534</th>\n",
       "      <td>dbpedia_2916</td>\n",
       "      <td>Which are the studies for toxin?</td>\n",
       "      <td>resource</td>\n",
       "      <td>[dbo:MedicalSpecialty]</td>\n",
       "      <td>dbo:TopicalConcept</td>\n",
       "      <td>dbo:MedicalSpecialty</td>\n",
       "    </tr>\n",
       "    <tr>\n",
       "      <th>1036</th>\n",
       "      <td>dbpedia_11924</td>\n",
       "      <td>What is the Hypertext Transfer Protocol document</td>\n",
       "      <td>resource</td>\n",
       "      <td>[dbo:Media]</td>\n",
       "      <td>dbo:Work</td>\n",
       "      <td>dbo:Media</td>\n",
       "    </tr>\n",
       "    <tr>\n",
       "      <th>2328</th>\n",
       "      <td>dbpedia_7584</td>\n",
       "      <td>What internet presence does the voice actor Je...</td>\n",
       "      <td>resource</td>\n",
       "      <td>[dbo:Film, dbo:Work]</td>\n",
       "      <td>dbo:Agent</td>\n",
       "      <td>dbo:Work</td>\n",
       "    </tr>\n",
       "    <tr>\n",
       "      <th>351</th>\n",
       "      <td>dbpedia_5602</td>\n",
       "      <td>What works did the sculptor Ebenezer Scrooge do?</td>\n",
       "      <td>resource</td>\n",
       "      <td>[dbo:Book, dbo:WrittenWork, dbo:Work]</td>\n",
       "      <td>dbo:Agent</td>\n",
       "      <td>dbo:Work</td>\n",
       "    </tr>\n",
       "    <tr>\n",
       "      <th>2723</th>\n",
       "      <td>dbpedia_19577</td>\n",
       "      <td>Which non fictional subject of Thud is the ath...</td>\n",
       "      <td>resource</td>\n",
       "      <td>[dbo:Game, dbo:Sport, dbo:Activity]</td>\n",
       "      <td>dbo:TopicalConcept</td>\n",
       "      <td>dbo:Activity</td>\n",
       "    </tr>\n",
       "    <tr>\n",
       "      <th>43</th>\n",
       "      <td>dbpedia_2904</td>\n",
       "      <td>What is the genetic association of the regulat...</td>\n",
       "      <td>resource</td>\n",
       "      <td>[dbo:Disease]</td>\n",
       "      <td>dbo:Biomolecule</td>\n",
       "      <td>dbo:Disease</td>\n",
       "    </tr>\n",
       "    <tr>\n",
       "      <th>3905</th>\n",
       "      <td>dbpedia_6700</td>\n",
       "      <td>Which is the anthem for Kimi Ga Yo?</td>\n",
       "      <td>resource</td>\n",
       "      <td>[dbo:Country, dbo:State, dbo:PopulatedPlace, d...</td>\n",
       "      <td>dbo:Work</td>\n",
       "      <td>dbo:Location</td>\n",
       "    </tr>\n",
       "    <tr>\n",
       "      <th>1260</th>\n",
       "      <td>dbpedia_5963</td>\n",
       "      <td>VAT rate of 27%,</td>\n",
       "      <td>resource</td>\n",
       "      <td>[dbo:Country, dbo:State, dbo:PopulatedPlace, d...</td>\n",
       "      <td>dbo:Disease</td>\n",
       "      <td>dbo:Location</td>\n",
       "    </tr>\n",
       "  </tbody>\n",
       "</table>\n",
       "</div>"
      ],
      "text/plain": [
       "                 id                                           question  \\\n",
       "2283  dbpedia_14033        When was Nicolas Sarkozy elected president?   \n",
       "81    dbpedia_20499  List the websites which the authors of Tornado...   \n",
       "534    dbpedia_2916                   Which are the studies for toxin?   \n",
       "1036  dbpedia_11924   What is the Hypertext Transfer Protocol document   \n",
       "2328   dbpedia_7584  What internet presence does the voice actor Je...   \n",
       "351    dbpedia_5602   What works did the sculptor Ebenezer Scrooge do?   \n",
       "2723  dbpedia_19577  Which non fictional subject of Thud is the ath...   \n",
       "43     dbpedia_2904  What is the genetic association of the regulat...   \n",
       "3905   dbpedia_6700                Which is the anthem for Kimi Ga Yo?   \n",
       "1260   dbpedia_5963                                   VAT rate of 27%,   \n",
       "\n",
       "      category                                               type  \\\n",
       "2283  resource                                     [dbo:Activity]   \n",
       "81    resource         [dbo:Company, dbo:Organisation, dbo:Agent]   \n",
       "534   resource                             [dbo:MedicalSpecialty]   \n",
       "1036  resource                                        [dbo:Media]   \n",
       "2328  resource                               [dbo:Film, dbo:Work]   \n",
       "351   resource              [dbo:Book, dbo:WrittenWork, dbo:Work]   \n",
       "2723  resource                [dbo:Game, dbo:Sport, dbo:Activity]   \n",
       "43    resource                                      [dbo:Disease]   \n",
       "3905  resource  [dbo:Country, dbo:State, dbo:PopulatedPlace, d...   \n",
       "1260  resource  [dbo:Country, dbo:State, dbo:PopulatedPlace, d...   \n",
       "\n",
       "                     top                gt_top  \n",
       "2283           dbo:Agent          dbo:Activity  \n",
       "81              dbo:Work             dbo:Agent  \n",
       "534   dbo:TopicalConcept  dbo:MedicalSpecialty  \n",
       "1036            dbo:Work             dbo:Media  \n",
       "2328           dbo:Agent              dbo:Work  \n",
       "351            dbo:Agent              dbo:Work  \n",
       "2723  dbo:TopicalConcept          dbo:Activity  \n",
       "43       dbo:Biomolecule           dbo:Disease  \n",
       "3905            dbo:Work          dbo:Location  \n",
       "1260         dbo:Disease          dbo:Location  "
      ]
     },
     "execution_count": 28,
     "metadata": {},
     "output_type": "execute_result"
    }
   ],
   "source": [
    "error_top_df.sample(10)"
   ]
  },
  {
   "cell_type": "code",
   "execution_count": 33,
   "metadata": {},
   "outputs": [],
   "source": []
  },
  {
   "cell_type": "code",
   "execution_count": 34,
   "metadata": {},
   "outputs": [
    {
     "data": {
      "text/plain": [
       "0.16605316973415132"
      ]
     },
     "execution_count": 34,
     "metadata": {},
     "output_type": "execute_result"
    }
   ],
   "source": [
    "error_top = error_num / len(resource_df)\n",
    "error_top"
   ]
  },
  {
   "cell_type": "code",
   "execution_count": null,
   "metadata": {
    "id": "MCYK0nXD2OfL"
   },
   "outputs": [],
   "source": [
    "for indexs in resource_df.index:\n",
    "    if (resource_df['question'][indexs] == 'NA'):\n",
    "        print(predicte_df['question'][indexs])\n",
    "\n",
    "\n",
    "error_df = predicte_df[predicte_df['category'] != predicte_df['pred_cateory2']]\n",
    "print(len(error_df))\n",
    "error_df"
   ]
  }
 ],
 "metadata": {
  "accelerator": "GPU",
  "colab": {
   "collapsed_sections": [],
   "name": "Combined_prediction_2.ipynb",
   "provenance": [
    {
     "file_id": "1V9qbPyzJAoP2aEl-TDDmQlV1VLV_ejZu",
     "timestamp": 1631541033255
    },
    {
     "file_id": "1_15x-fRFbd3SuazotNxbsb8WXIQ2ubDY",
     "timestamp": 1629976272165
    },
    {
     "file_id": "17JQ3S5AqsD2gj1maBSo5FERKazjlj6b-",
     "timestamp": 1629947020639
    },
    {
     "file_id": "1V4eHnZr_2N7rB69PI2fD-iRLp7yI4_pL",
     "timestamp": 1629475763284
    },
    {
     "file_id": "1cSF84adHm29DfhsZ4oDdInhyHRCzhifw",
     "timestamp": 1627053289461
    },
    {
     "file_id": "1tmlDHS-IZoOQVH1skR870PkV20JoZsB9",
     "timestamp": 1626453376476
    }
   ]
  },
  "kernelspec": {
   "display_name": "Python 3",
   "language": "python",
   "name": "python3"
  },
  "language_info": {
   "codemirror_mode": {
    "name": "ipython",
    "version": 3
   },
   "file_extension": ".py",
   "mimetype": "text/x-python",
   "name": "python",
   "nbconvert_exporter": "python",
   "pygments_lexer": "ipython3",
   "version": "3.8.8"
  }
 },
 "nbformat": 4,
 "nbformat_minor": 4
}
