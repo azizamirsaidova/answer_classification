{
 "cells": [
  {
   "cell_type": "code",
   "execution_count": 1,
   "metadata": {
    "id": "TNGxfa97AcjV"
   },
   "outputs": [],
   "source": [
    "\"\"\"Imports\"\"\"\n",
    "import pandas as pd\n",
    "import numpy as np\n",
    "import random\n",
    "import json\n",
    "import csv\n",
    "# importing the itertools library\n",
    "import itertools\n",
    "import torch\n",
    "from transformers import BertTokenizer, BertForSequenceClassification"
   ]
  },
  {
   "cell_type": "code",
   "execution_count": 2,
   "metadata": {
    "id": "qLYnbFdy6tlA"
   },
   "outputs": [],
   "source": [
    "\"\"\"Load models &  resources\"\"\"\n",
    "resources_dir = '../inputs/resources_dir' \n",
    "mapping_csv = resources_dir+'/mapping.csv'\n",
    "mapping_specific_csv = resources_dir+'/mapping_specific.csv'\n",
    "\n",
    "model_dir = '../outputs/models_dbpedia'\n",
    "category_model_dir = model_dir +'/BERT_model_5classes_epoch3'\n",
    "resource_top_model_dir = model_dir + '/BERT_model_top_epoch3/'\n",
    "resource_bottom_model_dir = model_dir + '/BERT_model_bottom_epoch4/'"
   ]
  },
  {
   "cell_type": "code",
   "execution_count": 3,
   "metadata": {
    "id": "jhQaaqbS-GRX"
   },
   "outputs": [],
   "source": [
    "def get_label_and_id(mapping_csv):\n",
    "    label_to_id = {}\n",
    "    id_to_label = {}\n",
    "    with open(mapping_csv) as csvfile:\n",
    "        reader = csv.reader(csvfile, delimiter=',')\n",
    "        for row in reader:\n",
    "            label_to_id[row[0]] = row[1]\n",
    "            id_to_label[row[1]] = row[0]\n",
    "            \n",
    "    return label_to_id,id_to_label\n",
    "\n",
    "top_label_to_id,top_id_to_label = get_label_and_id(mapping_csv)\n",
    "bottom_label_to_id,bottom_id_to_label = get_label_and_id(mapping_specific_csv)\n",
    "\n",
    "# print(len(top_label_to_id))\n",
    "# top_label_to_id"
   ]
  },
  {
   "cell_type": "code",
   "execution_count": 4,
   "metadata": {},
   "outputs": [],
   "source": [
    "dbpedia_types = pd.read_csv('../inputs/dbpedia_types.tsv', sep='\\t')\n",
    "hierarchy_json = resources_dir+'/dbpedia_hierarchy.json'\n",
    "\n",
    "hierarchy = {}\n",
    "\n",
    "def get_hierarchy(dbpedia_types, hierarchy_json):\n",
    "    hierarchy = {}\n",
    "    with open(hierarchy_json) as json_file:\n",
    "        hierarchy = json.load(json_file)\n",
    "        \n",
    "    for i,row in dbpedia_types.iterrows():\n",
    "        parent = row['Parent']\n",
    "        child = row['Type']\n",
    "        if parent not in hierarchy:\n",
    "            hierarchy[parent] ={}\n",
    "            hierarchy[parent]['children'] =[]\n",
    "        hierarchy[parent]['children'].append(child)\n",
    "\n",
    "    hierarchy['dbo:Location'] = hierarchy['dbo:Place']\n",
    "    hierarchy['dbo:Location']['children'].append('dbo:Place')\n",
    "    hierarchy['dbo:MedicalSpecialty'] = {'children':['dbo:MedicalSpecialty']}\n",
    "    hierarchy['dbo:PublicService'] = {'children':['dbo:PublicService']}\n",
    "    \n",
    "    hierarchy['dbo:Location']['level'] = 1\n",
    "    hierarchy['dbo:MedicalSpecialty']['level']  = 1\n",
    "    hierarchy['dbo:PublicService']['level'] = 1\n",
    "    \n",
    "    return hierarchy\n",
    "\n",
    "hierarchy = get_hierarchy(dbpedia_types, hierarchy_json)"
   ]
  },
  {
   "cell_type": "code",
   "execution_count": 5,
   "metadata": {
    "id": "1KqXmnTwAcja"
   },
   "outputs": [
    {
     "name": "stdout",
     "output_type": "stream",
     "text": [
      "test size:  3667\n",
      "After:  3667\n"
     ]
    }
   ],
   "source": [
    "# test_df= pd.read_json('../inputs/smarttask_dbpedia_test.json')\n",
    "# test_df= pd.read_json('../inputs/task1_dbpedia_test.json')\n",
    "test_df= pd.read_json('../inputs/dataset/smart2021-AT_Answer_Type_Prediction/dbpedia/2021_dbpedia_0.1test.json')\n",
    "print('test size: ',len(test_df))\n",
    "test_df = test_df[test_df['question'].notna()]\n",
    "print('After: ',len(test_df))\n",
    "# test_df.category.value_counts()"
   ]
  },
  {
   "cell_type": "code",
   "execution_count": 6,
   "metadata": {
    "id": "tpqBa-VV-lzD"
   },
   "outputs": [],
   "source": [
    "def classify_category(q):\n",
    "    input_ids = torch.tensor(category_tokenizer.encode(q, add_special_tokens=True)).unsqueeze(0)  # Batch size 1\n",
    "    labels = torch.tensor([1]).unsqueeze(0)  # Batch size 1\n",
    "\n",
    "    input_ids= input_ids.to(device) \n",
    "    labels= labels.to(device)\n",
    "    with torch.no_grad():\n",
    "        outputs = category_model(input_ids, labels=labels)\n",
    "    logits = outputs[1]\n",
    "    result = np.argmax(logits.cpu().numpy(),axis=1)[0]\n",
    "    if result == 0:\n",
    "        categoryLabel = 'resource'\n",
    "    elif result == 1:\n",
    "        categoryLabel = 'boolean'\n",
    "    elif result == 2:\n",
    "        categoryLabel = 'string'\n",
    "    elif result == 3:\n",
    "        categoryLabel = 'number'\n",
    "    elif result == 4:\n",
    "        categoryLabel = 'date'\n",
    "    else:\n",
    "        print('wrong prediction!!!')\n",
    "    return categoryLabel"
   ]
  },
  {
   "cell_type": "code",
   "execution_count": 7,
   "metadata": {
    "id": "H_FzkpJl-VKK"
   },
   "outputs": [
    {
     "name": "stdout",
     "output_type": "stream",
     "text": [
      "Success cuda\n"
     ]
    }
   ],
   "source": [
    "category_tokenizer = BertTokenizer.from_pretrained(category_model_dir)\n",
    "category_model = BertForSequenceClassification.from_pretrained(category_model_dir,num_labels=5)\n",
    "\n",
    "device = torch.device(\"cuda\" if torch.cuda.is_available() else \"cpu\")\n",
    "# send model to device\n",
    "category_model.to(device) \n",
    "print ('Success', device)\n",
    "test_df['pred_category'] = test_df.apply(lambda x: classify_category(x['question']), axis=1)"
   ]
  },
  {
   "cell_type": "code",
   "execution_count": 8,
   "metadata": {
    "colab": {
     "base_uri": "https://localhost:8080/",
     "height": 276
    },
    "executionInfo": {
     "elapsed": 563,
     "status": "ok",
     "timestamp": 1631784385288,
     "user": {
      "displayName": "Ning Xiao",
      "photoUrl": "https://lh3.googleusercontent.com/a/default-user=s64",
      "userId": "00121133590348739003"
     },
     "user_tz": -120
    },
    "id": "7I66s-HM4Pi1",
    "outputId": "3f84c141-3255-4a76-a9f4-8642a83a4f65"
   },
   "outputs": [
    {
     "name": "stdout",
     "output_type": "stream",
     "text": [
      "resource    3013\n",
      "literal      409\n",
      "boolean      245\n",
      "Name: pred_category2, dtype: int64\n"
     ]
    },
    {
     "name": "stderr",
     "output_type": "stream",
     "text": [
      "<ipython-input-8-3a6c808c285b>:5: SettingWithCopyWarning: \n",
      "A value is trying to be set on a copy of a slice from a DataFrame\n",
      "\n",
      "See the caveats in the documentation: https://pandas.pydata.org/pandas-docs/stable/user_guide/indexing.html#returning-a-view-versus-a-copy\n",
      "  test_df['pred_category2'][idx] = 'literal'\n"
     ]
    },
    {
     "data": {
      "text/html": [
       "<div>\n",
       "<style scoped>\n",
       "    .dataframe tbody tr th:only-of-type {\n",
       "        vertical-align: middle;\n",
       "    }\n",
       "\n",
       "    .dataframe tbody tr th {\n",
       "        vertical-align: top;\n",
       "    }\n",
       "\n",
       "    .dataframe thead th {\n",
       "        text-align: right;\n",
       "    }\n",
       "</style>\n",
       "<table border=\"1\" class=\"dataframe\">\n",
       "  <thead>\n",
       "    <tr style=\"text-align: right;\">\n",
       "      <th></th>\n",
       "      <th>id</th>\n",
       "      <th>question</th>\n",
       "      <th>category</th>\n",
       "      <th>type</th>\n",
       "      <th>pred_category</th>\n",
       "      <th>pred_category2</th>\n",
       "    </tr>\n",
       "  </thead>\n",
       "  <tbody>\n",
       "    <tr>\n",
       "      <th>2842</th>\n",
       "      <td>40264</td>\n",
       "      <td>what artist is on perry como love letters?</td>\n",
       "      <td>resource</td>\n",
       "      <td>[dbo:Person, dbo:Artist, dbo:Band, dbo:Musical...</td>\n",
       "      <td>resource</td>\n",
       "      <td>resource</td>\n",
       "    </tr>\n",
       "    <tr>\n",
       "      <th>880</th>\n",
       "      <td>10833</td>\n",
       "      <td>What was the first Queen album?</td>\n",
       "      <td>resource</td>\n",
       "      <td>[dbo:Album, dbo:MusicalWork, dbo:Work]</td>\n",
       "      <td>resource</td>\n",
       "      <td>resource</td>\n",
       "    </tr>\n",
       "    <tr>\n",
       "      <th>2709</th>\n",
       "      <td>38569</td>\n",
       "      <td>where is annet artani originally from</td>\n",
       "      <td>resource</td>\n",
       "      <td>[dbo:Organisation, dbo:Country, dbo:Person, db...</td>\n",
       "      <td>resource</td>\n",
       "      <td>resource</td>\n",
       "    </tr>\n",
       "    <tr>\n",
       "      <th>2569</th>\n",
       "      <td>36980</td>\n",
       "      <td>Where did the second battle of auburn take place?</td>\n",
       "      <td>resource</td>\n",
       "      <td>[dbo:Place, dbo:Location, dbo:AdministrativeRe...</td>\n",
       "      <td>resource</td>\n",
       "      <td>resource</td>\n",
       "    </tr>\n",
       "    <tr>\n",
       "      <th>1667</th>\n",
       "      <td>25746</td>\n",
       "      <td>what time in china hong kong</td>\n",
       "      <td>resource</td>\n",
       "      <td>[dbo:SportsEvent]</td>\n",
       "      <td>resource</td>\n",
       "      <td>resource</td>\n",
       "    </tr>\n",
       "  </tbody>\n",
       "</table>\n",
       "</div>"
      ],
      "text/plain": [
       "         id                                           question  category  \\\n",
       "2842  40264         what artist is on perry como love letters?  resource   \n",
       "880   10833                    What was the first Queen album?  resource   \n",
       "2709  38569              where is annet artani originally from  resource   \n",
       "2569  36980  Where did the second battle of auburn take place?  resource   \n",
       "1667  25746                       what time in china hong kong  resource   \n",
       "\n",
       "                                                   type pred_category  \\\n",
       "2842  [dbo:Person, dbo:Artist, dbo:Band, dbo:Musical...      resource   \n",
       "880              [dbo:Album, dbo:MusicalWork, dbo:Work]      resource   \n",
       "2709  [dbo:Organisation, dbo:Country, dbo:Person, db...      resource   \n",
       "2569  [dbo:Place, dbo:Location, dbo:AdministrativeRe...      resource   \n",
       "1667                                  [dbo:SportsEvent]      resource   \n",
       "\n",
       "     pred_category2  \n",
       "2842       resource  \n",
       "880        resource  \n",
       "2709       resource  \n",
       "2569       resource  \n",
       "1667       resource  "
      ]
     },
     "execution_count": 8,
     "metadata": {},
     "output_type": "execute_result"
    }
   ],
   "source": [
    "test_df['pred_category2'] = test_df['pred_category']\n",
    "\n",
    "for idx in test_df.index:\n",
    "    if (test_df['pred_category2'][idx] in ['string','number','date']):\n",
    "        test_df['pred_category2'][idx] = 'literal'\n",
    "classes = test_df['pred_category2'].value_counts()\n",
    "print(classes)\n",
    "test_df.sample(5)"
   ]
  },
  {
   "cell_type": "code",
   "execution_count": 9,
   "metadata": {},
   "outputs": [],
   "source": [
    "# true_category_df = test_df[test_df['category'] == test_df['pred_category2']]\n",
    "# error_category_df = test_df[test_df['category'] != test_df['pred_category2']]\n",
    "# error_category_df.sample(5)\n",
    "# print(len(test_df))\n",
    "# print(len(error_category_df))"
   ]
  },
  {
   "cell_type": "code",
   "execution_count": 10,
   "metadata": {
    "colab": {
     "base_uri": "https://localhost:8080/",
     "height": 222
    },
    "executionInfo": {
     "elapsed": 216,
     "status": "ok",
     "timestamp": 1631784424858,
     "user": {
      "displayName": "Ning Xiao",
      "photoUrl": "https://lh3.googleusercontent.com/a/default-user=s64",
      "userId": "00121133590348739003"
     },
     "user_tz": -120
    },
    "id": "ZhpLeju420HP",
    "outputId": "be9eb35d-a5da-419c-9fbd-e55fd92a3643"
   },
   "outputs": [
    {
     "name": "stdout",
     "output_type": "stream",
     "text": [
      "245\n"
     ]
    },
    {
     "name": "stderr",
     "output_type": "stream",
     "text": [
      "<ipython-input-10-0076ae8fbfee>:2: SettingWithCopyWarning: \n",
      "A value is trying to be set on a copy of a slice from a DataFrame.\n",
      "Try using .loc[row_indexer,col_indexer] = value instead\n",
      "\n",
      "See the caveats in the documentation: https://pandas.pydata.org/pandas-docs/stable/user_guide/indexing.html#returning-a-view-versus-a-copy\n",
      "  boolean_df['answer_types'] = boolean_df.apply(lambda x: [x['pred_category']], axis=1)\n"
     ]
    }
   ],
   "source": [
    "boolean_df = test_df[test_df['pred_category2'] == 'boolean']\n",
    "boolean_df['answer_types'] = boolean_df.apply(lambda x: [x['pred_category']], axis=1)\n",
    "print(len(boolean_df))\n",
    "# boolean_df.head()"
   ]
  },
  {
   "cell_type": "code",
   "execution_count": 11,
   "metadata": {
    "colab": {
     "base_uri": "https://localhost:8080/",
     "height": 222
    },
    "executionInfo": {
     "elapsed": 200,
     "status": "ok",
     "timestamp": 1631784813402,
     "user": {
      "displayName": "Ning Xiao",
      "photoUrl": "https://lh3.googleusercontent.com/a/default-user=s64",
      "userId": "00121133590348739003"
     },
     "user_tz": -120
    },
    "id": "odAlNeA2870-",
    "outputId": "01eafa0e-4d1b-4947-bc42-179958dfda2e"
   },
   "outputs": [
    {
     "name": "stdout",
     "output_type": "stream",
     "text": [
      "409\n"
     ]
    },
    {
     "name": "stderr",
     "output_type": "stream",
     "text": [
      "<ipython-input-11-74e6e7939978>:2: SettingWithCopyWarning: \n",
      "A value is trying to be set on a copy of a slice from a DataFrame.\n",
      "Try using .loc[row_indexer,col_indexer] = value instead\n",
      "\n",
      "See the caveats in the documentation: https://pandas.pydata.org/pandas-docs/stable/user_guide/indexing.html#returning-a-view-versus-a-copy\n",
      "  literal_df['answer_types'] = literal_df.apply(lambda x: [x['pred_category']], axis=1)\n"
     ]
    }
   ],
   "source": [
    "literal_df = test_df[test_df['pred_category2'] == 'literal']\n",
    "literal_df['answer_types'] = literal_df.apply(lambda x: [x['pred_category']], axis=1)\n",
    "print(len(literal_df))\n",
    "# literal_df.head()"
   ]
  },
  {
   "cell_type": "code",
   "execution_count": 12,
   "metadata": {
    "colab": {
     "base_uri": "https://localhost:8080/",
     "height": 222
    },
    "executionInfo": {
     "elapsed": 184,
     "status": "ok",
     "timestamp": 1631784947835,
     "user": {
      "displayName": "Ning Xiao",
      "photoUrl": "https://lh3.googleusercontent.com/a/default-user=s64",
      "userId": "00121133590348739003"
     },
     "user_tz": -120
    },
    "id": "bcbk3Vtm0dfa",
    "outputId": "04f59ce0-81cc-42fe-dc4f-da9c6745ed6d"
   },
   "outputs": [
    {
     "name": "stdout",
     "output_type": "stream",
     "text": [
      "resource size:  3013\n",
      "Success cuda\n"
     ]
    }
   ],
   "source": [
    "resource_df = test_df[test_df['pred_category2'] == 'resource']\n",
    "print('resource size: ',len(resource_df))\n",
    "\n",
    "resource_top_tokenizer = BertTokenizer.from_pretrained(resource_top_model_dir)\n",
    "resource_top_model = BertForSequenceClassification.from_pretrained(resource_top_model_dir,num_labels=len(top_label_to_id))\n",
    "\n",
    "resource_tokenizer_sp = BertTokenizer.from_pretrained(resource_bottom_model_dir)\n",
    "resource_model_sp = BertForSequenceClassification.from_pretrained(resource_bottom_model_dir,num_labels=len(bottom_label_to_id))\n",
    "\n",
    "resource_top_model.to(device) \n",
    "resource_model_sp.to(device) \n",
    "print ('Success', device)"
   ]
  },
  {
   "cell_type": "code",
   "execution_count": 13,
   "metadata": {
    "id": "yHFAG1xYeQxE"
   },
   "outputs": [],
   "source": [
    "for i, row in dbpedia_types.iterrows():\n",
    "    c= row['Type']\n",
    "    if c in hierarchy:\n",
    "        hierarchy[c]['parent'] =row['Parent']"
   ]
  },
  {
   "cell_type": "code",
   "execution_count": 31,
   "metadata": {},
   "outputs": [],
   "source": [
    "import torch\n",
    "import torch.nn.functional as F\n",
    "\n",
    "def classify_resource_top_level(row):\n",
    "    sent = str('[CLS]') + row['question'] \n",
    "    input_ids = torch.tensor(resource_top_tokenizer.encode(sent, add_special_tokens=True)).unsqueeze(0)  # Batch size 1\n",
    "    labels = torch.tensor([1]).unsqueeze(0)  # Batch size 1\n",
    "    \n",
    "    input_ids= input_ids.to(device)\n",
    "    labels = labels.to(device)\n",
    "    with torch.no_grad():\n",
    "        outputs = resource_top_model(input_ids, labels=labels)\n",
    "    \n",
    "    logits = outputs[1]\n",
    "    l_array = logits.cpu().numpy()[0]\n",
    "    #normalize logits so that max is 1\n",
    "    norm = [float(i)/max(l_array) for i in l_array]\n",
    "    result_before = np.argsort(norm)[::-1]\n",
    "    initial_top_index = np.argmax(norm)\n",
    "    top_types ={}\n",
    "    for i in result_before[:5]:\n",
    "        if norm[i] > 0.5:\n",
    "            top_types[(top_id_to_label[str(i)])]= norm[i]\n",
    "        \n",
    "    #topk_types = [k for k,v in top_class.items() if v > 0.5]\n",
    "    print('top_types: ',top_types)\n",
    "        \n",
    "    return top_types\n",
    "\n",
    "\n",
    "def classify_resource(row, top_types):\n",
    "    #q = str('[CLS]') + row['question'] + str('[SEP]') + top_level\n",
    "    sent = str('[CLS]') + row['question'] \n",
    "    input_ids = torch.tensor(resource_tokenizer_sp.encode(sent, add_special_tokens=True)).unsqueeze(0)  # Batch size 1\n",
    "    labels = torch.tensor([1]).unsqueeze(0)  # Batch size 1\n",
    "    \n",
    "    input_ids= input_ids.to(device)\n",
    "    labels = labels.to(device)\n",
    "    with torch.no_grad():\n",
    "        outputs = resource_model_sp(input_ids, labels=labels)\n",
    "    \n",
    "    logits = outputs[1]\n",
    "    l_array = logits.cpu().numpy()[0]\n",
    "    #normalize logits so that max is 1\n",
    "    norm = [float(i)/max(l_array) for i in l_array]\n",
    "    # Arrange the elements in norm in descending, return corresponding indexes\n",
    "    result_before = np.argsort(norm)[::-1]\n",
    "    \n",
    "    specific_types ={}\n",
    "    for i in result_before[:11]:\n",
    "        specific_types[(bottom_id_to_label[str(i)])]= norm[i]\n",
    "    print('specific types: ',specific_types)\n",
    "   \n",
    "    #print('initial_top: ',top_level)\n",
    "    for top_level in top_types:\n",
    "        initial_top = hierarchy[top_level]\n",
    "        if top_level in bottom_label_to_id:\n",
    "            initial_top_index = int(bottom_label_to_id[top_level])\n",
    "            norm[initial_top_index] = norm[initial_top_index] + top_types[top_level]*int(initial_top['level'])/6\n",
    "        #reward sub classes of top class\n",
    "        initial_top_children = initial_top['children']\n",
    "        for c in initial_top_children:\n",
    "            if c in bottom_label_to_id:\n",
    "                if c not in hierarchy:\n",
    "                    continue\n",
    "                norm[int(bottom_label_to_id[c])] = norm[int(bottom_label_to_id[c])] + top_types[top_level]*int(hierarchy[c]['level'])/6\n",
    "                \n",
    "    #classes in descending order\n",
    "    result = np.argsort(norm)[::-1]\n",
    "\n",
    "    result_mapped = {}\n",
    "    cTypes = []\n",
    "    for r in result[:9]:\n",
    "        result_mapped[bottom_id_to_label[str(r)]]= norm[r] \n",
    "\n",
    "    combi = itertools.combinations(result_mapped.keys(),2)\n",
    "    # printing all combinations in output using for loop\n",
    "    #print (result_mapped)\n",
    "    m_arr = []\n",
    "    for m in combi: \n",
    "        c1 = m[0]\n",
    "        c2 = m[1]\n",
    "        if c1 not in hierarchy or c2 not in hierarchy: continue\n",
    "        if (hierarchy[c1]['parent'] == hierarchy[c2]['parent']):\n",
    "            if hierarchy[c1]['parent'] not in m_arr: # Avoid inserting duplicate elements\n",
    "                #print (hierarchy[c1]['parent'])\n",
    "                score= (norm[int(bottom_label_to_id[c1])]+norm[int(bottom_label_to_id[c2])])/2.0\n",
    "                if hierarchy[c1]['parent'] not in result_mapped:\n",
    "                    result_mapped[hierarchy[c1]['parent']] = score\n",
    "                elif score > result_mapped[hierarchy[c1]['parent']]:\n",
    "                      result_mapped[hierarchy[c1]['parent']] = score\n",
    "    print('result_mapped: ',result_mapped)\n",
    "    \n",
    "    return result_mapped\n",
    "\n",
    "#id_to_label_sp\n",
    "def classify_sample(row):\n",
    "    top_class = classify_resource_top_level(row)\n",
    "    topk_types = [k for k,v in top_class.items() if v > 0.5]\n",
    "    specific_classes = classify_resource(row,top_class)\n",
    "    \n",
    "    for k, v in sorted(specific_classes.items(), key=lambda item: item[1], reverse=True):\n",
    "        if len(topk_types)< 10:\n",
    "            if k not in topk_types:\n",
    "                topk_types.append(k)\n",
    "                \n",
    "    print('topk_types: ',topk_types)\n",
    "    \n",
    "    return topk_types\n"
   ]
  },
  {
   "cell_type": "code",
   "execution_count": 15,
   "metadata": {},
   "outputs": [],
   "source": [
    "# def jaccard_func(y_true, y_pred):\n",
    "#     inter = set(y_true).intersection(set(y_pred))\n",
    "#     union = set(y_true).union(set(y_pred))\n",
    "    \n",
    "#     return float(len(inter)/len(union))\n",
    "\n",
    "# idx = 100\n",
    "# y_true = resource_df.iloc[idx]['type']\n",
    "# y_pred = resource_df.iloc[idx]['answer_types']\n",
    "# y_true = np.array(y_true)\n",
    "# y_pred = np.array(y_pred)\n",
    "# jaccard_func(y_true, y_pred)\n"
   ]
  },
  {
   "cell_type": "code",
   "execution_count": 16,
   "metadata": {},
   "outputs": [],
   "source": [
    "# i = 0 \n",
    "# for idx in resource_df.index:\n",
    "#     y_true = resource_df.loc[idx]['type']\n",
    "#     y_pred = resource_df.loc[idx]['answer_types']\n",
    "#     y_true = np.array(y_true)\n",
    "#     y_pred = np.array(y_pred)\n",
    "#     jac = jaccard_func(y_true, y_pred)\n",
    "#     if jac > 0.3 and jac < 0.5:\n",
    "#         print(resource_df.iloc[idx]['question'])\n",
    "#         print(y_true)\n",
    "#         print(y_pred)\n",
    "#         print('\\n')\n",
    "#         i += 1\n",
    "# print(i)\n",
    "    "
   ]
  },
  {
   "cell_type": "code",
   "execution_count": 32,
   "metadata": {},
   "outputs": [
    {
     "name": "stdout",
     "output_type": "stream",
     "text": [
      "what is an album by usher?\n",
      "resource\n",
      "['dbo:MusicalWork', 'dbo:Album', 'dbo:Work']\n",
      "top_types:  {'dbo:Work': 1.0}\n",
      "specific types:  {'dbo:MusicalWork': 1.0, 'dbo:Album': 0.5235952710937145, 'dbo:Single': 0.3637721816227973, 'dbo:Country': 0.23041263864720296, 'dbo:Company': 0.2295354938126019, 'dbo:Book': 0.2139558411928312, 'dbo:Person': 0.21301649111620163, 'dbo:Software': 0.19302640375334798, 'dbo:Media': 0.19268253285380177, 'dbo:Band': 0.1835506639585454, 'dbo:Film': 0.17312388882837806}\n",
      "result_mapped:  {'dbo:MusicalWork': 1.6666666666666665, 'dbo:Album': 1.0235952710937144, 'dbo:Single': 0.8637721816227972, 'dbo:Software': 0.8596930704200145, 'dbo:Film': 0.8397905554950447, 'dbo:TelevisionShow': 0.7587037980235546, 'dbo:Artwork': 0.7210577302792855, 'dbo:Book': 0.7139558411928312, 'dbo:WrittenWork': 0.632377457504609, 'dbo:Work': 1.2631798685433404}\n",
      "topk_types:  ['dbo:Work', 'dbo:MusicalWork', 'dbo:Album', 'dbo:Single', 'dbo:Software', 'dbo:Film', 'dbo:TelevisionShow', 'dbo:Artwork', 'dbo:Book', 'dbo:WrittenWork']\n"
     ]
    },
    {
     "data": {
      "text/plain": [
       "['dbo:Work',\n",
       " 'dbo:MusicalWork',\n",
       " 'dbo:Album',\n",
       " 'dbo:Single',\n",
       " 'dbo:Software',\n",
       " 'dbo:Film',\n",
       " 'dbo:TelevisionShow',\n",
       " 'dbo:Artwork',\n",
       " 'dbo:Book',\n",
       " 'dbo:WrittenWork']"
      ]
     },
     "execution_count": 32,
     "metadata": {},
     "output_type": "execute_result"
    }
   ],
   "source": [
    "idx = 2000 #1000 #666#102\n",
    "print(resource_df.iloc[idx]['question'])\n",
    "print(resource_df.iloc[idx]['pred_category2'])\n",
    "print(resource_df.iloc[idx]['type'])\n",
    "classify_sample(resource_df.iloc[idx])"
   ]
  },
  {
   "cell_type": "code",
   "execution_count": 18,
   "metadata": {},
   "outputs": [
    {
     "data": {
      "text/html": [
       "<div>\n",
       "<style scoped>\n",
       "    .dataframe tbody tr th:only-of-type {\n",
       "        vertical-align: middle;\n",
       "    }\n",
       "\n",
       "    .dataframe tbody tr th {\n",
       "        vertical-align: top;\n",
       "    }\n",
       "\n",
       "    .dataframe thead th {\n",
       "        text-align: right;\n",
       "    }\n",
       "</style>\n",
       "<table border=\"1\" class=\"dataframe\">\n",
       "  <thead>\n",
       "    <tr style=\"text-align: right;\">\n",
       "      <th></th>\n",
       "      <th>id</th>\n",
       "      <th>question</th>\n",
       "      <th>category</th>\n",
       "      <th>type</th>\n",
       "      <th>pred_category</th>\n",
       "      <th>pred_category2</th>\n",
       "    </tr>\n",
       "  </thead>\n",
       "  <tbody>\n",
       "    <tr>\n",
       "      <th>3</th>\n",
       "      <td>61</td>\n",
       "      <td>Who gave the {location of work} of {proprietor...</td>\n",
       "      <td>resource</td>\n",
       "      <td>[dbo:City, dbo:Settlement, dbo:PopulatedPlace,...</td>\n",
       "      <td>resource</td>\n",
       "      <td>resource</td>\n",
       "    </tr>\n",
       "    <tr>\n",
       "      <th>6</th>\n",
       "      <td>90</td>\n",
       "      <td>Who discovered Europa and Callisto?</td>\n",
       "      <td>resource</td>\n",
       "      <td>[dbo:Scientist, dbo:Person, dbo:Agent]</td>\n",
       "      <td>resource</td>\n",
       "      <td>resource</td>\n",
       "    </tr>\n",
       "    <tr>\n",
       "      <th>9</th>\n",
       "      <td>99</td>\n",
       "      <td>What award did Ilya Mehnikov win where the cha...</td>\n",
       "      <td>resource</td>\n",
       "      <td>[dbo:Award]</td>\n",
       "      <td>resource</td>\n",
       "      <td>resource</td>\n",
       "    </tr>\n",
       "    <tr>\n",
       "      <th>11</th>\n",
       "      <td>118</td>\n",
       "      <td>Which book is written in Hebrew.</td>\n",
       "      <td>resource</td>\n",
       "      <td>[dbo:Book, dbo:WrittenWork, dbo:Work]</td>\n",
       "      <td>resource</td>\n",
       "      <td>resource</td>\n",
       "    </tr>\n",
       "    <tr>\n",
       "      <th>12</th>\n",
       "      <td>122</td>\n",
       "      <td>What is a chemical compound encoded by CGU wit...</td>\n",
       "      <td>resource</td>\n",
       "      <td>[dbo:ChemicalCompound, dbo:ChemicalSubstance]</td>\n",
       "      <td>resource</td>\n",
       "      <td>resource</td>\n",
       "    </tr>\n",
       "  </tbody>\n",
       "</table>\n",
       "</div>"
      ],
      "text/plain": [
       "     id                                           question  category  \\\n",
       "3    61  Who gave the {location of work} of {proprietor...  resource   \n",
       "6    90                Who discovered Europa and Callisto?  resource   \n",
       "9    99  What award did Ilya Mehnikov win where the cha...  resource   \n",
       "11  118                   Which book is written in Hebrew.  resource   \n",
       "12  122  What is a chemical compound encoded by CGU wit...  resource   \n",
       "\n",
       "                                                 type pred_category  \\\n",
       "3   [dbo:City, dbo:Settlement, dbo:PopulatedPlace,...      resource   \n",
       "6              [dbo:Scientist, dbo:Person, dbo:Agent]      resource   \n",
       "9                                         [dbo:Award]      resource   \n",
       "11              [dbo:Book, dbo:WrittenWork, dbo:Work]      resource   \n",
       "12      [dbo:ChemicalCompound, dbo:ChemicalSubstance]      resource   \n",
       "\n",
       "   pred_category2  \n",
       "3        resource  \n",
       "6        resource  \n",
       "9        resource  \n",
       "11       resource  \n",
       "12       resource  "
      ]
     },
     "execution_count": 18,
     "metadata": {},
     "output_type": "execute_result"
    }
   ],
   "source": [
    "resource_df.head()"
   ]
  },
  {
   "cell_type": "code",
   "execution_count": 19,
   "metadata": {
    "colab": {
     "base_uri": "https://localhost:8080/"
    },
    "executionInfo": {
     "elapsed": 524609,
     "status": "ok",
     "timestamp": 1631785547668,
     "user": {
      "displayName": "Ning Xiao",
      "photoUrl": "https://lh3.googleusercontent.com/a/default-user=s64",
      "userId": "00121133590348739003"
     },
     "user_tz": -120
    },
    "id": "dVJN6Bz4MWZg",
    "outputId": "141cdcc9-f09b-4b37-ba9f-41628c94e1e2"
   },
   "outputs": [
    {
     "name": "stderr",
     "output_type": "stream",
     "text": [
      "<ipython-input-19-1c54df91daf2>:1: SettingWithCopyWarning: \n",
      "A value is trying to be set on a copy of a slice from a DataFrame.\n",
      "Try using .loc[row_indexer,col_indexer] = value instead\n",
      "\n",
      "See the caveats in the documentation: https://pandas.pydata.org/pandas-docs/stable/user_guide/indexing.html#returning-a-view-versus-a-copy\n",
      "  resource_df['answer_types']= resource_df.apply(lambda x: classify_sample(x), axis=1)\n"
     ]
    },
    {
     "data": {
      "text/html": [
       "<div>\n",
       "<style scoped>\n",
       "    .dataframe tbody tr th:only-of-type {\n",
       "        vertical-align: middle;\n",
       "    }\n",
       "\n",
       "    .dataframe tbody tr th {\n",
       "        vertical-align: top;\n",
       "    }\n",
       "\n",
       "    .dataframe thead th {\n",
       "        text-align: right;\n",
       "    }\n",
       "</style>\n",
       "<table border=\"1\" class=\"dataframe\">\n",
       "  <thead>\n",
       "    <tr style=\"text-align: right;\">\n",
       "      <th></th>\n",
       "      <th>id</th>\n",
       "      <th>question</th>\n",
       "      <th>category</th>\n",
       "      <th>type</th>\n",
       "      <th>pred_category</th>\n",
       "      <th>pred_category2</th>\n",
       "      <th>answer_types</th>\n",
       "    </tr>\n",
       "  </thead>\n",
       "  <tbody>\n",
       "    <tr>\n",
       "      <th>3248</th>\n",
       "      <td>45715</td>\n",
       "      <td>which artist released jimi plays berkeley?</td>\n",
       "      <td>resource</td>\n",
       "      <td>[dbo:Person, dbo:Artist, dbo:MusicalArtist, db...</td>\n",
       "      <td>resource</td>\n",
       "      <td>resource</td>\n",
       "      <td>[dbo:Agent, dbo:Person, dbo:MusicalArtist, dbo...</td>\n",
       "    </tr>\n",
       "    <tr>\n",
       "      <th>1534</th>\n",
       "      <td>23697</td>\n",
       "      <td>where is sony ericsson based</td>\n",
       "      <td>resource</td>\n",
       "      <td>[dbo:Place, dbo:Location, dbo:City, dbo:Settle...</td>\n",
       "      <td>resource</td>\n",
       "      <td>resource</td>\n",
       "      <td>[dbo:Location, dbo:Agent, dbo:Place, dbo:Libra...</td>\n",
       "    </tr>\n",
       "    <tr>\n",
       "      <th>1684</th>\n",
       "      <td>25944</td>\n",
       "      <td>what currency does singapore use</td>\n",
       "      <td>resource</td>\n",
       "      <td>[dbo:Currency]</td>\n",
       "      <td>resource</td>\n",
       "      <td>resource</td>\n",
       "      <td>[dbo:Currency, owl:Thing, dbo:Settlement, dbo:...</td>\n",
       "    </tr>\n",
       "    <tr>\n",
       "      <th>1974</th>\n",
       "      <td>29877</td>\n",
       "      <td>Name a famous saxophone player</td>\n",
       "      <td>resource</td>\n",
       "      <td>[dbo:Person, dbo:Artist, dbo:MusicalArtist, db...</td>\n",
       "      <td>resource</td>\n",
       "      <td>resource</td>\n",
       "      <td>[dbo:Agent, dbo:Person, dbo:MusicalArtist, dbo...</td>\n",
       "    </tr>\n",
       "    <tr>\n",
       "      <th>3206</th>\n",
       "      <td>45135</td>\n",
       "      <td>what is the nationality of shin kishida?</td>\n",
       "      <td>resource</td>\n",
       "      <td>[dbo:Place, dbo:Location, dbo:MusicalArtist, d...</td>\n",
       "      <td>resource</td>\n",
       "      <td>resource</td>\n",
       "      <td>[dbo:Location, dbo:Agent, dbo:Place, dbo:Settl...</td>\n",
       "    </tr>\n",
       "  </tbody>\n",
       "</table>\n",
       "</div>"
      ],
      "text/plain": [
       "         id                                    question  category  \\\n",
       "3248  45715  which artist released jimi plays berkeley?  resource   \n",
       "1534  23697                where is sony ericsson based  resource   \n",
       "1684  25944            what currency does singapore use  resource   \n",
       "1974  29877              Name a famous saxophone player  resource   \n",
       "3206  45135    what is the nationality of shin kishida?  resource   \n",
       "\n",
       "                                                   type pred_category  \\\n",
       "3248  [dbo:Person, dbo:Artist, dbo:MusicalArtist, db...      resource   \n",
       "1534  [dbo:Place, dbo:Location, dbo:City, dbo:Settle...      resource   \n",
       "1684                                     [dbo:Currency]      resource   \n",
       "1974  [dbo:Person, dbo:Artist, dbo:MusicalArtist, db...      resource   \n",
       "3206  [dbo:Place, dbo:Location, dbo:MusicalArtist, d...      resource   \n",
       "\n",
       "     pred_category2                                       answer_types  \n",
       "3248       resource  [dbo:Agent, dbo:Person, dbo:MusicalArtist, dbo...  \n",
       "1534       resource  [dbo:Location, dbo:Agent, dbo:Place, dbo:Libra...  \n",
       "1684       resource  [dbo:Currency, owl:Thing, dbo:Settlement, dbo:...  \n",
       "1974       resource  [dbo:Agent, dbo:Person, dbo:MusicalArtist, dbo...  \n",
       "3206       resource  [dbo:Location, dbo:Agent, dbo:Place, dbo:Settl...  "
      ]
     },
     "execution_count": 19,
     "metadata": {},
     "output_type": "execute_result"
    }
   ],
   "source": [
    "resource_df['answer_types']= resource_df.apply(lambda x: classify_sample(x), axis=1)\n",
    "resource_df.sample(5)"
   ]
  },
  {
   "cell_type": "code",
   "execution_count": 20,
   "metadata": {
    "id": "fIshi6AGMWld"
   },
   "outputs": [
    {
     "data": {
      "text/html": [
       "<div>\n",
       "<style scoped>\n",
       "    .dataframe tbody tr th:only-of-type {\n",
       "        vertical-align: middle;\n",
       "    }\n",
       "\n",
       "    .dataframe tbody tr th {\n",
       "        vertical-align: top;\n",
       "    }\n",
       "\n",
       "    .dataframe thead th {\n",
       "        text-align: right;\n",
       "    }\n",
       "</style>\n",
       "<table border=\"1\" class=\"dataframe\">\n",
       "  <thead>\n",
       "    <tr style=\"text-align: right;\">\n",
       "      <th></th>\n",
       "      <th>id</th>\n",
       "      <th>question</th>\n",
       "      <th>category</th>\n",
       "      <th>type</th>\n",
       "      <th>pred_category</th>\n",
       "      <th>pred_category2</th>\n",
       "      <th>answer_types</th>\n",
       "    </tr>\n",
       "  </thead>\n",
       "  <tbody>\n",
       "    <tr>\n",
       "      <th>278</th>\n",
       "      <td>3498</td>\n",
       "      <td>Who lives on the shore of Richard Dawkins?</td>\n",
       "      <td>resource</td>\n",
       "      <td>[dbo:River, dbo:Stream, dbo:BodyOfWater, dbo:N...</td>\n",
       "      <td>resource</td>\n",
       "      <td>resource</td>\n",
       "      <td>[dbo:Agent, dbo:Deity, dbo:River, dbo:Military...</td>\n",
       "    </tr>\n",
       "    <tr>\n",
       "      <th>2013</th>\n",
       "      <td>30381</td>\n",
       "      <td>which italian city did majorian die in</td>\n",
       "      <td>resource</td>\n",
       "      <td>[dbo:Place, dbo:Location, dbo:Settlement, dbo:...</td>\n",
       "      <td>resource</td>\n",
       "      <td>resource</td>\n",
       "      <td>[dbo:Location, dbo:Agent, dbo:Place, dbo:Settl...</td>\n",
       "    </tr>\n",
       "    <tr>\n",
       "      <th>1852</th>\n",
       "      <td>28398</td>\n",
       "      <td>What is charles trudeau's nationality</td>\n",
       "      <td>resource</td>\n",
       "      <td>[dbo:Place, dbo:Location, dbo:MusicalArtist, d...</td>\n",
       "      <td>resource</td>\n",
       "      <td>resource</td>\n",
       "      <td>[dbo:Location, dbo:Agent, dbo:Organisation, db...</td>\n",
       "    </tr>\n",
       "    <tr>\n",
       "      <th>2777</th>\n",
       "      <td>39472</td>\n",
       "      <td>who is prince arthur, duke of connaught and st...</td>\n",
       "      <td>resource</td>\n",
       "      <td>[dbo:Person, dbo:Royalty, dbo:Agent]</td>\n",
       "      <td>resource</td>\n",
       "      <td>resource</td>\n",
       "      <td>[dbo:Agent, dbo:Person, dbo:MusicalArtist, dbo...</td>\n",
       "    </tr>\n",
       "    <tr>\n",
       "      <th>324</th>\n",
       "      <td>4140</td>\n",
       "      <td>Which administrative headquarters of the Pulau...</td>\n",
       "      <td>resource</td>\n",
       "      <td>[dbo:Country, dbo:PopulatedPlace, dbo:Place, d...</td>\n",
       "      <td>resource</td>\n",
       "      <td>resource</td>\n",
       "      <td>[dbo:Location, dbo:Country, dbo:City, dbo:Popu...</td>\n",
       "    </tr>\n",
       "  </tbody>\n",
       "</table>\n",
       "</div>"
      ],
      "text/plain": [
       "         id                                           question  category  \\\n",
       "278    3498         Who lives on the shore of Richard Dawkins?  resource   \n",
       "2013  30381             which italian city did majorian die in  resource   \n",
       "1852  28398              What is charles trudeau's nationality  resource   \n",
       "2777  39472  who is prince arthur, duke of connaught and st...  resource   \n",
       "324    4140  Which administrative headquarters of the Pulau...  resource   \n",
       "\n",
       "                                                   type pred_category  \\\n",
       "278   [dbo:River, dbo:Stream, dbo:BodyOfWater, dbo:N...      resource   \n",
       "2013  [dbo:Place, dbo:Location, dbo:Settlement, dbo:...      resource   \n",
       "1852  [dbo:Place, dbo:Location, dbo:MusicalArtist, d...      resource   \n",
       "2777               [dbo:Person, dbo:Royalty, dbo:Agent]      resource   \n",
       "324   [dbo:Country, dbo:PopulatedPlace, dbo:Place, d...      resource   \n",
       "\n",
       "     pred_category2                                       answer_types  \n",
       "278        resource  [dbo:Agent, dbo:Deity, dbo:River, dbo:Military...  \n",
       "2013       resource  [dbo:Location, dbo:Agent, dbo:Place, dbo:Settl...  \n",
       "1852       resource  [dbo:Location, dbo:Agent, dbo:Organisation, db...  \n",
       "2777       resource  [dbo:Agent, dbo:Person, dbo:MusicalArtist, dbo...  \n",
       "324        resource  [dbo:Location, dbo:Country, dbo:City, dbo:Popu...  "
      ]
     },
     "execution_count": 20,
     "metadata": {},
     "output_type": "execute_result"
    }
   ],
   "source": [
    "predicte_df = pd.concat([boolean_df, literal_df, resource_df],axis=0,ignore_index=False)\n",
    "predicte_df.sample(5)"
   ]
  },
  {
   "cell_type": "code",
   "execution_count": 21,
   "metadata": {
    "colab": {
     "base_uri": "https://localhost:8080/",
     "height": 294
    },
    "executionInfo": {
     "elapsed": 207,
     "status": "ok",
     "timestamp": 1631786201499,
     "user": {
      "displayName": "Ning Xiao",
      "photoUrl": "https://lh3.googleusercontent.com/a/default-user=s64",
      "userId": "00121133590348739003"
     },
     "user_tz": -120
    },
    "id": "KbPGSEFrUuHu",
    "outputId": "fb07c1d4-b624-4cdb-a2d6-1615a4ae68b3"
   },
   "outputs": [
    {
     "name": "stderr",
     "output_type": "stream",
     "text": [
      "/opt/conda/lib/python3.8/site-packages/pandas/core/frame.py:4300: SettingWithCopyWarning: \n",
      "A value is trying to be set on a copy of a slice from a DataFrame\n",
      "\n",
      "See the caveats in the documentation: https://pandas.pydata.org/pandas-docs/stable/user_guide/indexing.html#returning-a-view-versus-a-copy\n",
      "  return super().rename(\n"
     ]
    },
    {
     "data": {
      "text/html": [
       "<div>\n",
       "<style scoped>\n",
       "    .dataframe tbody tr th:only-of-type {\n",
       "        vertical-align: middle;\n",
       "    }\n",
       "\n",
       "    .dataframe tbody tr th {\n",
       "        vertical-align: top;\n",
       "    }\n",
       "\n",
       "    .dataframe thead th {\n",
       "        text-align: right;\n",
       "    }\n",
       "</style>\n",
       "<table border=\"1\" class=\"dataframe\">\n",
       "  <thead>\n",
       "    <tr style=\"text-align: right;\">\n",
       "      <th></th>\n",
       "      <th>id</th>\n",
       "      <th>question</th>\n",
       "      <th>category</th>\n",
       "      <th>type</th>\n",
       "    </tr>\n",
       "  </thead>\n",
       "  <tbody>\n",
       "    <tr>\n",
       "      <th>0</th>\n",
       "      <td>13</td>\n",
       "      <td>Did Steve Sampson manage a club of Santa Clara...</td>\n",
       "      <td>boolean</td>\n",
       "      <td>[boolean]</td>\n",
       "    </tr>\n",
       "    <tr>\n",
       "      <th>5</th>\n",
       "      <td>76</td>\n",
       "      <td>Did Raymond Picard take birth in Paris?</td>\n",
       "      <td>boolean</td>\n",
       "      <td>[boolean]</td>\n",
       "    </tr>\n",
       "    <tr>\n",
       "      <th>10</th>\n",
       "      <td>114</td>\n",
       "      <td>Is the female population of Bommadasanahalli l...</td>\n",
       "      <td>boolean</td>\n",
       "      <td>[boolean]</td>\n",
       "    </tr>\n",
       "    <tr>\n",
       "      <th>19</th>\n",
       "      <td>151</td>\n",
       "      <td>Is the installed capacity of Kraftwerk Nussdor...</td>\n",
       "      <td>boolean</td>\n",
       "      <td>[boolean]</td>\n",
       "    </tr>\n",
       "    <tr>\n",
       "      <th>22</th>\n",
       "      <td>214</td>\n",
       "      <td>Is Tirana the largest city of Albania?</td>\n",
       "      <td>boolean</td>\n",
       "      <td>[boolean]</td>\n",
       "    </tr>\n",
       "  </tbody>\n",
       "</table>\n",
       "</div>"
      ],
      "text/plain": [
       "     id                                           question category       type\n",
       "0    13  Did Steve Sampson manage a club of Santa Clara...  boolean  [boolean]\n",
       "5    76            Did Raymond Picard take birth in Paris?  boolean  [boolean]\n",
       "10  114  Is the female population of Bommadasanahalli l...  boolean  [boolean]\n",
       "19  151  Is the installed capacity of Kraftwerk Nussdor...  boolean  [boolean]\n",
       "22  214             Is Tirana the largest city of Albania?  boolean  [boolean]"
      ]
     },
     "execution_count": 21,
     "metadata": {},
     "output_type": "execute_result"
    }
   ],
   "source": [
    "save_predict_df = predicte_df[['id','question','pred_category2','answer_types']]\n",
    "\n",
    "save_predict_df.rename(columns={'pred_category2': 'category', 'answer_types': 'type'},inplace=True)\n",
    "save_predict_df.to_json('../outputs/2021_dbpedia_test_pred.json', orient='records')\n",
    "# save_predict_df.to_json('../outputs/2021_dbpedia_0.1test_pred.json', orient='records')\n",
    "len(save_predict_df)\n",
    "save_predict_df.head()"
   ]
  },
  {
   "cell_type": "markdown",
   "metadata": {
    "id": "HT0DoJ5xAcjp"
   },
   "source": [
    "# Prediction "
   ]
  },
  {
   "cell_type": "code",
   "execution_count": 22,
   "metadata": {
    "colab": {
     "base_uri": "https://localhost:8080/"
    },
    "executionInfo": {
     "elapsed": 174,
     "status": "ok",
     "timestamp": 1631786219928,
     "user": {
      "displayName": "Ning Xiao",
      "photoUrl": "https://lh3.googleusercontent.com/a/default-user=s64",
      "userId": "00121133590348739003"
     },
     "user_tz": -120
    },
    "id": "oYSA8CLaJs-w",
    "outputId": "8a284b08-3aa9-4844-a5d4-e40e2f1cdd8c"
   },
   "outputs": [
    {
     "name": "stdout",
     "output_type": "stream",
     "text": [
      "Loading type hierarchy from ../inputs/dbpedia_types.tsv... 762 types loaded (max depth: 7)\n"
     ]
    }
   ],
   "source": [
    "import evaluate\n",
    "type_hierarchy, max_depth = evaluate.load_type_hierarchy('../inputs/dbpedia_types.tsv')"
   ]
  },
  {
   "cell_type": "code",
   "execution_count": 23,
   "metadata": {
    "colab": {
     "base_uri": "https://localhost:8080/"
    },
    "executionInfo": {
     "elapsed": 177,
     "status": "ok",
     "timestamp": 1631786221832,
     "user": {
      "displayName": "Ning Xiao",
      "photoUrl": "https://lh3.googleusercontent.com/a/default-user=s64",
      "userId": "00121133590348739003"
     },
     "user_tz": -120
    },
    "id": "EsI43gdT1Bng",
    "outputId": "8e283fad-6686-44b4-fe51-06129a6b23f6"
   },
   "outputs": [
    {
     "name": "stdout",
     "output_type": "stream",
     "text": [
      "Loading ground truth from ../inputs/dataset/smart2021-AT_Answer_Type_Prediction/dbpedia/2021_dbpedia_0.1test.json... \n",
      "   3667 questions loaded\n"
     ]
    }
   ],
   "source": [
    "ground_truth_fname = '../inputs/dataset/smart2021-AT_Answer_Type_Prediction/dbpedia/2021_dbpedia_0.1test.json'\n",
    "# ground_truth_fname = '../inputs/smarttask_dbpedia_test.json'\n",
    "ground_truth = evaluate.load_ground_truth(ground_truth_fname, type_hierarchy)"
   ]
  },
  {
   "cell_type": "code",
   "execution_count": 24,
   "metadata": {
    "colab": {
     "base_uri": "https://localhost:8080/"
    },
    "executionInfo": {
     "elapsed": 228,
     "status": "ok",
     "timestamp": 1631786223865,
     "user": {
      "displayName": "Ning Xiao",
      "photoUrl": "https://lh3.googleusercontent.com/a/default-user=s64",
      "userId": "00121133590348739003"
     },
     "user_tz": -120
    },
    "id": "6GINbUgCAcjr",
    "outputId": "9b2b0408-67b5-432d-e3ae-928f98b7f7f2"
   },
   "outputs": [
    {
     "name": "stdout",
     "output_type": "stream",
     "text": [
      "Loading system predictions from ../outputs/2021_dbpedia_0.1test_pred.json... \n",
      "   3667 predictions loaded\n"
     ]
    }
   ],
   "source": [
    "system_output = evaluate.load_system_output('../outputs/2021_dbpedia_0.1test_pred.json')"
   ]
  },
  {
   "cell_type": "code",
   "execution_count": 25,
   "metadata": {},
   "outputs": [
    {
     "name": "stdout",
     "output_type": "stream",
     "text": [
      "\n",
      "\n",
      "Evaluation results:\n",
      "-------------------\n",
      "Category prediction (based on 3667 questions)\n",
      "  Accuracy: 0.983\n",
      "Type ranking (based on 3368 questions)\n",
      "  NDCG@5:  0.690\n",
      "  NDCG@10: 0.660\n"
     ]
    }
   ],
   "source": [
    "# RF\n",
    "evaluate.evaluate(system_output, ground_truth, type_hierarchy, max_depth)"
   ]
  },
  {
   "cell_type": "code",
   "execution_count": 26,
   "metadata": {},
   "outputs": [
    {
     "name": "stdout",
     "output_type": "stream",
     "text": [
      "\n",
      "\n",
      "Evaluation results:\n",
      "-------------------\n",
      "Category prediction (based on 3667 questions)\n",
      "  Accuracy: 0.983\n",
      "Type ranking (based on 3368 questions)\n",
      "  NDCG@5:  0.690\n",
      "  NDCG@10: 0.660\n"
     ]
    }
   ],
   "source": [
    "# RF\n",
    "evaluate.evaluate(system_output, ground_truth, type_hierarchy, max_depth)"
   ]
  },
  {
   "cell_type": "code",
   "execution_count": 27,
   "metadata": {},
   "outputs": [
    {
     "name": "stdout",
     "output_type": "stream",
     "text": [
      "\n",
      "\n",
      "Evaluation results:\n",
      "-------------------\n",
      "Category prediction (based on 3667 questions)\n",
      "  Accuracy: 0.983\n",
      "Type ranking (based on 3368 questions)\n",
      "  NDCG@5:  0.690\n",
      "  NDCG@10: 0.660\n"
     ]
    }
   ],
   "source": [
    "# RF\n",
    "evaluate.evaluate(system_output, ground_truth, type_hierarchy, max_depth)"
   ]
  },
  {
   "cell_type": "code",
   "execution_count": 28,
   "metadata": {},
   "outputs": [
    {
     "name": "stdout",
     "output_type": "stream",
     "text": [
      "\n",
      "\n",
      "Evaluation results:\n",
      "-------------------\n",
      "Category prediction (based on 3667 questions)\n",
      "  Accuracy: 0.983\n",
      "Type ranking (based on 3368 questions)\n",
      "  NDCG@5:  0.690\n",
      "  NDCG@10: 0.660\n"
     ]
    }
   ],
   "source": [
    "# RF\n",
    "evaluate.evaluate(system_output, ground_truth, type_hierarchy, max_depth)"
   ]
  },
  {
   "cell_type": "code",
   "execution_count": null,
   "metadata": {
    "id": "MCYK0nXD2OfL"
   },
   "outputs": [],
   "source": []
  }
 ],
 "metadata": {
  "accelerator": "GPU",
  "colab": {
   "collapsed_sections": [],
   "name": "Combined_prediction_2.ipynb",
   "provenance": [
    {
     "file_id": "1V9qbPyzJAoP2aEl-TDDmQlV1VLV_ejZu",
     "timestamp": 1631541033255
    },
    {
     "file_id": "1_15x-fRFbd3SuazotNxbsb8WXIQ2ubDY",
     "timestamp": 1629976272165
    },
    {
     "file_id": "17JQ3S5AqsD2gj1maBSo5FERKazjlj6b-",
     "timestamp": 1629947020639
    },
    {
     "file_id": "1V4eHnZr_2N7rB69PI2fD-iRLp7yI4_pL",
     "timestamp": 1629475763284
    },
    {
     "file_id": "1cSF84adHm29DfhsZ4oDdInhyHRCzhifw",
     "timestamp": 1627053289461
    },
    {
     "file_id": "1tmlDHS-IZoOQVH1skR870PkV20JoZsB9",
     "timestamp": 1626453376476
    }
   ]
  },
  "kernelspec": {
   "display_name": "Python 3",
   "language": "python",
   "name": "python3"
  },
  "language_info": {
   "codemirror_mode": {
    "name": "ipython",
    "version": 3
   },
   "file_extension": ".py",
   "mimetype": "text/x-python",
   "name": "python",
   "nbconvert_exporter": "python",
   "pygments_lexer": "ipython3",
   "version": "3.8.8"
  }
 },
 "nbformat": 4,
 "nbformat_minor": 4
}
